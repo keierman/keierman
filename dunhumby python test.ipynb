{
 "cells": [
  {
   "cell_type": "markdown",
   "metadata": {},
   "source": [
    "### Given the list of basket values, do the following:\n",
    "#### a. Print out whether each basket is small (basket value < £5), medium (£5 ≤ basket value < £10) or large (basket value ≥ £10);\n",
    "#### b. Sum and print the value of the medium value baskets.\n",
    "#### basket_values = [3.43,9.73,7.56,9.52,15.23,2.25,6.44,7.38]\n"
   ]
  },
  {
   "cell_type": "code",
   "execution_count": 1,
   "metadata": {},
   "outputs": [],
   "source": [
    "basket_values = [3.43,9.73,7.56,9.52,15.23,2.25,6.44,7.38]"
   ]
  },
  {
   "cell_type": "code",
   "execution_count": 2,
   "metadata": {},
   "outputs": [
    {
     "name": "stdout",
     "output_type": "stream",
     "text": [
      "This basket is small at £ 3.43\n",
      "This basket is medium at £ 9.73\n",
      "This basket is medium at £ 7.56\n",
      "This basket is medium at £ 9.52\n",
      "This basket is large at £ 15.23\n",
      "This basket is small at £ 2.25\n",
      "This basket is medium at £ 6.44\n",
      "This basket is medium at £ 7.38\n",
      "The sum of the medium value baskets is:  40.63\n"
     ]
    }
   ],
   "source": [
    "medium_total_value= 0\n",
    "for val in basket_values:\n",
    "    if val < 5:\n",
    "        print(\"This basket is small at £\", val)\n",
    "    elif val >= 10:\n",
    "        print(\"This basket is large at £\", val)\n",
    "    else:\n",
    "        print(\"This basket is medium at £\", val)\n",
    "        medium_total_value+=val\n",
    "print(\"The sum of the medium value baskets is: \", medium_total_value)"
   ]
  },
  {
   "cell_type": "markdown",
   "metadata": {},
   "source": [
    "### 2. You are given the following nested dictionaries, which represent items in a basket. Do the following:\n",
    "#### a. Return the product name for item 7527.\n",
    "#### b. Return the total value of this basket.\n",
    "#### c. Add another entry for a product that costs £4.95, has ID 7524 and name ‘poppy seeds’.\n",
    "#### basket = {'2624': {'price': 0.5, 'prod_name': 'salt'},\n",
    "#### '2894': {'price': 3.25, 'prod_name': 'yeast'},\n",
    "#### '7527': {'price': 2.5, 'prod_name': 'flour'}}\n"
   ]
  },
  {
   "cell_type": "code",
   "execution_count": 3,
   "metadata": {},
   "outputs": [],
   "source": [
    "basket = {'2624': {'price': 0.5, 'prod_name': 'salt'}, '2894': {'price': 3.25, 'prod_name': 'yeast'}, '7527': {'price': 2.5, 'prod_name': 'flour'}}"
   ]
  },
  {
   "cell_type": "code",
   "execution_count": 4,
   "metadata": {},
   "outputs": [
    {
     "name": "stdout",
     "output_type": "stream",
     "text": [
      "The product name for item 7527 is flour\n",
      "The total value of the basket is £ 6.25\n",
      "{'2624': {'price': 0.5, 'prod_name': 'salt'}, '2894': {'price': 3.25, 'prod_name': 'yeast'}, '7527': {'price': 2.5, 'prod_name': 'flour'}, '7524': {'price': 4.95, 'prod_name': 'poppy seeds'}}\n"
     ]
    }
   ],
   "source": [
    "### a. return the product name for item 7527\n",
    "print(\"The product name for item 7527 is\", basket['7527']['prod_name'])\n",
    "### b. return the total value of this basket\n",
    "total_value = sum(basket[x]['price'] for x in basket)\n",
    "print(\"The total value of the basket is £\",total_value)\n",
    "### c. add another entry for a product that costs £4.95, has ID 7524 and name ‘poppy seeds’\n",
    "basket['7524']={'price': 4.95, 'prod_name': 'poppy seeds'}\n",
    "print(basket) # to confirm added entry"
   ]
  },
  {
   "cell_type": "markdown",
   "metadata": {},
   "source": [
    "### 3. Below is the source code for a function called ‘get_sql_string’.\n",
    "###### 1 def get_sql_string(stores):\n",
    "###### 2 store_names = [x.split(', ')[0] for x in stores]\n",
    "###### 3 store_names = [x.replace(' ', '_') for x in store_names]\n",
    "###### 4 store_regions = [x.split(',')[1] for x in stores]\n",
    "###### 5 locations = store_names + store_regions\n",
    "###### 6 columns = ['sales_' + x.lower() for x in locations]\n",
    "###### 7 return ', '.join(columns)\n",
    "#### a. There is a bug in line 4. What should the line be?\n",
    "#### b. Assuming this bug was fixed, what would be returned if the following command was\n",
    "#### executed:\n",
    "#### my_stores = ['Fulham Palace Rd, Hammersmith', 'Crown St, Reading',\n",
    "#### 'Leavesden Green, Watford']\n",
    "#### get_sql_string(my_stores)\n"
   ]
  },
  {
   "cell_type": "code",
   "execution_count": 5,
   "metadata": {},
   "outputs": [],
   "source": [
    "my_stores = ['Fulham Palace Rd, Hammersmith', 'Crown St, Reading','Leavesden Green, Watford']"
   ]
  },
  {
   "cell_type": "code",
   "execution_count": 6,
   "metadata": {},
   "outputs": [
    {
     "name": "stdout",
     "output_type": "stream",
     "text": [
      "Print the result of get_sql_string with the corrected line 4:\n",
      "sales_fulham_palace_rd, sales_crown_st, sales_leavesden_green, sales_hammersmith, sales_reading, sales_watford\n"
     ]
    }
   ],
   "source": [
    "def get_sql_string(stores):\n",
    "    store_names = [x.split(', ')[0] for x in stores]\n",
    "    store_names = [x.replace(' ', '_') for x in store_names]\n",
    "    # The bug in the following line was that the x.split was missing a space after the comma so there was an\n",
    "    # added space in the returned column strings\n",
    "    store_regions = [x.split(', ')[1] for x in stores] \n",
    "    locations = store_names + store_regions\n",
    "    columns = ['sales_' + x.lower() for x in locations]\n",
    "    return ', '.join(columns)\n",
    "print(\"Print the result of get_sql_string with the corrected line 4:\")\n",
    "print(get_sql_string(my_stores))"
   ]
  },
  {
   "cell_type": "markdown",
   "metadata": {},
   "source": [
    "### 4. Write a function that: \n",
    "##### a. accepts a list of strings as input.\n",
    "##### b. returns an alphabetically ordered list of unique strings.\n",
    "##### c. prints the string(s) with maximum length in the console."
   ]
  },
  {
   "cell_type": "code",
   "execution_count": 7,
   "metadata": {},
   "outputs": [
    {
     "name": "stdout",
     "output_type": "stream",
     "text": [
      "today\n",
      "today\n",
      "asdfg\n"
     ]
    },
    {
     "data": {
      "text/plain": [
       "{'a', 'are', 'asdfg', 'day', 'good', 'hi', 'how', 'is', 'today', 'you'}"
      ]
     },
     "execution_count": 7,
     "metadata": {},
     "output_type": "execute_result"
    }
   ],
   "source": [
    "def my_func(lst_str):\n",
    "    max_len=len(max(lst_str, key=len))\n",
    "    [print(x) for x in lst_str if len(x) == max_len]\n",
    "    sort_lst = set(sorted(lst_str))\n",
    "    return sort_lst\n",
    "test_lst = ['hi', 'how', 'are', 'you', 'today', 'today', 'is', 'a', 'good', 'day', 'asdfg']\n",
    "my_func(test_lst)"
   ]
  },
  {
   "cell_type": "markdown",
   "metadata": {},
   "source": [
    "### Section 2"
   ]
  },
  {
   "cell_type": "markdown",
   "metadata": {},
   "source": [
    "#### 1. Find the nth largest salary.\n",
    "#### 2. List the highest salary paid for each job.\n",
    "#### 3. In which year did most people join the company? Display the year and the number of Employees.\n",
    "#### 4. Create a new column with the length of service of the Employees (in the form n years and m months).\n",
    "#### 5. List all the Employees who have at least one person reporting to them."
   ]
  },
  {
   "cell_type": "code",
   "execution_count": 8,
   "metadata": {},
   "outputs": [],
   "source": [
    "import pandas as pd\n",
    "import numpy as np"
   ]
  },
  {
   "cell_type": "code",
   "execution_count": 9,
   "metadata": {},
   "outputs": [],
   "source": [
    "df_emp = pd.read_csv('employee.csv')\n",
    "df_dept = pd.read_csv('dept.csv')"
   ]
  },
  {
   "cell_type": "code",
   "execution_count": 10,
   "metadata": {},
   "outputs": [
    {
     "data": {
      "text/html": [
       "<div>\n",
       "<style scoped>\n",
       "    .dataframe tbody tr th:only-of-type {\n",
       "        vertical-align: middle;\n",
       "    }\n",
       "\n",
       "    .dataframe tbody tr th {\n",
       "        vertical-align: top;\n",
       "    }\n",
       "\n",
       "    .dataframe thead th {\n",
       "        text-align: right;\n",
       "    }\n",
       "</style>\n",
       "<table border=\"1\" class=\"dataframe\">\n",
       "  <thead>\n",
       "    <tr style=\"text-align: right;\">\n",
       "      <th></th>\n",
       "      <th>EMPNO</th>\n",
       "      <th>NAME</th>\n",
       "      <th>JOB</th>\n",
       "      <th>MGR</th>\n",
       "      <th>HIREDATE</th>\n",
       "      <th>SAL</th>\n",
       "      <th>DEPTNO</th>\n",
       "    </tr>\n",
       "  </thead>\n",
       "  <tbody>\n",
       "    <tr>\n",
       "      <th>0</th>\n",
       "      <td>3697</td>\n",
       "      <td>Smith</td>\n",
       "      <td>Developer</td>\n",
       "      <td>5684</td>\n",
       "      <td>05/05/15</td>\n",
       "      <td>47000.0</td>\n",
       "      <td>11</td>\n",
       "    </tr>\n",
       "    <tr>\n",
       "      <th>1</th>\n",
       "      <td>5684</td>\n",
       "      <td>Davis</td>\n",
       "      <td>Manager</td>\n",
       "      <td>8257</td>\n",
       "      <td>22/03/09</td>\n",
       "      <td>63000.0</td>\n",
       "      <td>11</td>\n",
       "    </tr>\n",
       "    <tr>\n",
       "      <th>2</th>\n",
       "      <td>1891</td>\n",
       "      <td>Jones</td>\n",
       "      <td>Analyst</td>\n",
       "      <td>5684</td>\n",
       "      <td>01/09/17</td>\n",
       "      <td>20000.0</td>\n",
       "      <td>23</td>\n",
       "    </tr>\n",
       "    <tr>\n",
       "      <th>3</th>\n",
       "      <td>8257</td>\n",
       "      <td>Joe</td>\n",
       "      <td>Director</td>\n",
       "      <td>8257</td>\n",
       "      <td>16/03/02</td>\n",
       "      <td>63700.0</td>\n",
       "      <td>11</td>\n",
       "    </tr>\n",
       "    <tr>\n",
       "      <th>4</th>\n",
       "      <td>5685</td>\n",
       "      <td>David</td>\n",
       "      <td>Analyst</td>\n",
       "      <td>8257</td>\n",
       "      <td>22/03/09</td>\n",
       "      <td>63000.0</td>\n",
       "      <td>11</td>\n",
       "    </tr>\n",
       "  </tbody>\n",
       "</table>\n",
       "</div>"
      ],
      "text/plain": [
       "   EMPNO   NAME        JOB   MGR  HIREDATE      SAL  DEPTNO\n",
       "0   3697  Smith  Developer  5684  05/05/15  47000.0      11\n",
       "1   5684  Davis    Manager  8257  22/03/09  63000.0      11\n",
       "2   1891  Jones    Analyst  5684  01/09/17  20000.0      23\n",
       "3   8257    Joe   Director  8257  16/03/02  63700.0      11\n",
       "4   5685  David    Analyst  8257  22/03/09  63000.0      11"
      ]
     },
     "execution_count": 10,
     "metadata": {},
     "output_type": "execute_result"
    }
   ],
   "source": [
    "df_emp.head()"
   ]
  },
  {
   "cell_type": "code",
   "execution_count": 11,
   "metadata": {},
   "outputs": [
    {
     "data": {
      "text/html": [
       "<div>\n",
       "<style scoped>\n",
       "    .dataframe tbody tr th:only-of-type {\n",
       "        vertical-align: middle;\n",
       "    }\n",
       "\n",
       "    .dataframe tbody tr th {\n",
       "        vertical-align: top;\n",
       "    }\n",
       "\n",
       "    .dataframe thead th {\n",
       "        text-align: right;\n",
       "    }\n",
       "</style>\n",
       "<table border=\"1\" class=\"dataframe\">\n",
       "  <thead>\n",
       "    <tr style=\"text-align: right;\">\n",
       "      <th></th>\n",
       "      <th>DEPTNO</th>\n",
       "      <th>DNAME</th>\n",
       "      <th>LOC</th>\n",
       "    </tr>\n",
       "  </thead>\n",
       "  <tbody>\n",
       "    <tr>\n",
       "      <th>0</th>\n",
       "      <td>12</td>\n",
       "      <td>Finance</td>\n",
       "      <td>London</td>\n",
       "    </tr>\n",
       "    <tr>\n",
       "      <th>1</th>\n",
       "      <td>7</td>\n",
       "      <td>Operations</td>\n",
       "      <td>Edinburgh</td>\n",
       "    </tr>\n",
       "    <tr>\n",
       "      <th>2</th>\n",
       "      <td>23</td>\n",
       "      <td>Marketing</td>\n",
       "      <td>Paris</td>\n",
       "    </tr>\n",
       "  </tbody>\n",
       "</table>\n",
       "</div>"
      ],
      "text/plain": [
       "   DEPTNO       DNAME        LOC\n",
       "0      12     Finance     London\n",
       "1       7  Operations  Edinburgh\n",
       "2      23   Marketing      Paris"
      ]
     },
     "execution_count": 11,
     "metadata": {},
     "output_type": "execute_result"
    }
   ],
   "source": [
    "df_dept.head()"
   ]
  },
  {
   "cell_type": "code",
   "execution_count": 12,
   "metadata": {},
   "outputs": [
    {
     "data": {
      "text/plain": [
       "63000"
      ]
     },
     "execution_count": 12,
     "metadata": {},
     "output_type": "execute_result"
    }
   ],
   "source": [
    "# Problem 1\n",
    "def find_nth_salary(n, df):\n",
    "    df_salaries = df.sort_values(['SAL'], ascending=False).reset_index(drop=True)[['SAL']]\n",
    "    df_salaries=(df_salaries.SAL.unique())\n",
    "    return int(df_salaries[n-1])\n",
    "\n",
    "find_nth_salary(2,df_emp)"
   ]
  },
  {
   "cell_type": "code",
   "execution_count": 13,
   "metadata": {},
   "outputs": [
    {
     "data": {
      "text/plain": [
       "63000"
      ]
     },
     "execution_count": 13,
     "metadata": {},
     "output_type": "execute_result"
    }
   ],
   "source": [
    "# Problem 2\n",
    "def find_highest_salary(job,df):\n",
    "    df = df[df.JOB==job]\n",
    "    salaries = df.sort_values(['SAL'], ascending=False).reset_index(drop=True)[['SAL']]\n",
    "    return int(salaries.values[0])\n",
    "find_highest_salary('Analyst', df_emp)"
   ]
  },
  {
   "cell_type": "code",
   "execution_count": 14,
   "metadata": {},
   "outputs": [
    {
     "name": "stdout",
     "output_type": "stream",
     "text": [
      "The most people joined the company in 2009  with  2  people joining.\n"
     ]
    }
   ],
   "source": [
    "# 3. In which year did most people join the company? Display the year and the number of Employees\n",
    "df_emp['HIREYEAR'] = pd.to_datetime(df_emp['HIREDATE']).dt.strftime('%Y')\n",
    "year_count = df_emp['HIREYEAR'].value_counts().max()\n",
    "common_year = df_emp['HIREYEAR'].value_counts().idxmax()\n",
    "print(\"The most people joined the company in\", common_year,\" with \",year_count,\" people joining.\")"
   ]
  },
  {
   "cell_type": "code",
   "execution_count": 15,
   "metadata": {},
   "outputs": [
    {
     "data": {
      "text/html": [
       "<div>\n",
       "<style scoped>\n",
       "    .dataframe tbody tr th:only-of-type {\n",
       "        vertical-align: middle;\n",
       "    }\n",
       "\n",
       "    .dataframe tbody tr th {\n",
       "        vertical-align: top;\n",
       "    }\n",
       "\n",
       "    .dataframe thead th {\n",
       "        text-align: right;\n",
       "    }\n",
       "</style>\n",
       "<table border=\"1\" class=\"dataframe\">\n",
       "  <thead>\n",
       "    <tr style=\"text-align: right;\">\n",
       "      <th></th>\n",
       "      <th>EMPNO</th>\n",
       "      <th>NAME</th>\n",
       "      <th>JOB</th>\n",
       "      <th>MGR</th>\n",
       "      <th>HIREDATE</th>\n",
       "      <th>SAL</th>\n",
       "      <th>DEPTNO</th>\n",
       "      <th>HIREYEAR</th>\n",
       "      <th>SERVICE</th>\n",
       "    </tr>\n",
       "  </thead>\n",
       "  <tbody>\n",
       "    <tr>\n",
       "      <th>0</th>\n",
       "      <td>3697</td>\n",
       "      <td>Smith</td>\n",
       "      <td>Developer</td>\n",
       "      <td>5684</td>\n",
       "      <td>05/05/15</td>\n",
       "      <td>47000.0</td>\n",
       "      <td>11</td>\n",
       "      <td>2015</td>\n",
       "      <td>6 years 2 months</td>\n",
       "    </tr>\n",
       "    <tr>\n",
       "      <th>1</th>\n",
       "      <td>5684</td>\n",
       "      <td>Davis</td>\n",
       "      <td>Manager</td>\n",
       "      <td>8257</td>\n",
       "      <td>22/03/09</td>\n",
       "      <td>63000.0</td>\n",
       "      <td>11</td>\n",
       "      <td>2009</td>\n",
       "      <td>12 years 4 months</td>\n",
       "    </tr>\n",
       "    <tr>\n",
       "      <th>2</th>\n",
       "      <td>1891</td>\n",
       "      <td>Jones</td>\n",
       "      <td>Analyst</td>\n",
       "      <td>5684</td>\n",
       "      <td>01/09/17</td>\n",
       "      <td>20000.0</td>\n",
       "      <td>23</td>\n",
       "      <td>2017</td>\n",
       "      <td>4 years 6 months</td>\n",
       "    </tr>\n",
       "    <tr>\n",
       "      <th>3</th>\n",
       "      <td>8257</td>\n",
       "      <td>Joe</td>\n",
       "      <td>Director</td>\n",
       "      <td>8257</td>\n",
       "      <td>16/03/02</td>\n",
       "      <td>63700.0</td>\n",
       "      <td>11</td>\n",
       "      <td>2002</td>\n",
       "      <td>19 years 4 months</td>\n",
       "    </tr>\n",
       "    <tr>\n",
       "      <th>4</th>\n",
       "      <td>5685</td>\n",
       "      <td>David</td>\n",
       "      <td>Analyst</td>\n",
       "      <td>8257</td>\n",
       "      <td>22/03/09</td>\n",
       "      <td>63000.0</td>\n",
       "      <td>11</td>\n",
       "      <td>2009</td>\n",
       "      <td>12 years 4 months</td>\n",
       "    </tr>\n",
       "  </tbody>\n",
       "</table>\n",
       "</div>"
      ],
      "text/plain": [
       "   EMPNO   NAME        JOB   MGR  HIREDATE      SAL  DEPTNO HIREYEAR  \\\n",
       "0   3697  Smith  Developer  5684  05/05/15  47000.0      11     2015   \n",
       "1   5684  Davis    Manager  8257  22/03/09  63000.0      11     2009   \n",
       "2   1891  Jones    Analyst  5684  01/09/17  20000.0      23     2017   \n",
       "3   8257    Joe   Director  8257  16/03/02  63700.0      11     2002   \n",
       "4   5685  David    Analyst  8257  22/03/09  63000.0      11     2009   \n",
       "\n",
       "             SERVICE  \n",
       "0   6 years 2 months  \n",
       "1  12 years 4 months  \n",
       "2   4 years 6 months  \n",
       "3  19 years 4 months  \n",
       "4  12 years 4 months  "
      ]
     },
     "execution_count": 15,
     "metadata": {},
     "output_type": "execute_result"
    }
   ],
   "source": [
    "#4. Create a new column with the length of service of the Employees (in the form n years and m months).\n",
    "service_months = ((pd.to_datetime(\"today\") - pd.to_datetime(df_emp['HIREDATE'])))/np.timedelta64(1,'M') \n",
    "service_years = ((pd.to_datetime(\"today\") - pd.to_datetime(df_emp['HIREDATE'])))/np.timedelta64(1,'Y')\n",
    "service_years = service_years.astype(int).astype(str)+' years '\n",
    "service_months_units = (service_months%12).astype(int).astype(str)+' months'\n",
    "\n",
    "df_emp['SERVICE'] = service_years +service_months_units\n",
    "df_emp.head()"
   ]
  },
  {
   "cell_type": "code",
   "execution_count": 16,
   "metadata": {},
   "outputs": [
    {
     "name": "stdout",
     "output_type": "stream",
     "text": [
      "1    Davis\n",
      "3      Joe\n",
      "Name: NAME, dtype: object\n"
     ]
    }
   ],
   "source": [
    "# List all the Employees who have at least one person reporting to them.\n",
    "df_emp['HAS_UNDERLINGS'] = df_emp['EMPNO'].isin(df_emp['MGR'].values)\n",
    "managers=df_emp['NAME'][df_emp['HAS_UNDERLINGS']==True]   \n",
    "print(managers)"
   ]
  },
  {
   "cell_type": "code",
   "execution_count": null,
   "metadata": {},
   "outputs": [],
   "source": []
  }
 ],
 "metadata": {
  "kernelspec": {
   "display_name": "Python 3",
   "language": "python",
   "name": "python3"
  },
  "language_info": {
   "codemirror_mode": {
    "name": "ipython",
    "version": 3
   },
   "file_extension": ".py",
   "mimetype": "text/x-python",
   "name": "python",
   "nbconvert_exporter": "python",
   "pygments_lexer": "ipython3",
   "version": "3.8.5"
  }
 },
 "nbformat": 4,
 "nbformat_minor": 4
}
